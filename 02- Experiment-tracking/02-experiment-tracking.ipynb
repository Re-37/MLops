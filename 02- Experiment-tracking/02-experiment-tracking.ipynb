{
 "cells": [
  {
   "cell_type": "code",
   "execution_count": 11,
   "id": "1a748a6e-a504-4b0f-9af9-b4cd9e3464d5",
   "metadata": {},
   "outputs": [],
   "source": [
    "import pandas as pd\n",
    "import numpy as np\n",
    "import warnings\n",
    "warnings.filterwarnings(\"ignore\")"
   ]
  },
  {
   "cell_type": "code",
   "execution_count": 2,
   "id": "ae2a14e4-4fe2-48af-998c-54f84c953ec8",
   "metadata": {},
   "outputs": [],
   "source": [
    "!python preprocess_data.py --raw_data_path {'data'} --dest_path ./output"
   ]
  },
  {
   "cell_type": "code",
   "execution_count": 12,
   "id": "51b488a2-e323-4962-b78b-e0bfcf0e2eb9",
   "metadata": {},
   "outputs": [
    {
     "name": "stdout",
     "output_type": "stream",
     "text": [
      "^C\n"
     ]
    }
   ],
   "source": [
    "!python train.py --data_path ./output"
   ]
  },
  {
   "cell_type": "code",
   "execution_count": 6,
   "id": "b2a4c4b5-5eb5-4e1a-92f1-5eb3abaf3dd4",
   "metadata": {},
   "outputs": [
    {
     "name": "stdout",
     "output_type": "stream",
     "text": [
      "^C\n"
     ]
    }
   ],
   "source": [
    "!mlflow ui"
   ]
  },
  {
   "cell_type": "code",
   "execution_count": 13,
   "id": "d3cce05e-73a1-4240-9993-702add376e8e",
   "metadata": {},
   "outputs": [
    {
     "name": "stderr",
     "output_type": "stream",
     "text": [
      "2024/05/29 05:55:29 WARNING mlflow.sklearn: Failed to log training dataset information to MLflow Tracking. Reason: Unable to allocate 2.80 GiB for an array with shape (65946, 5702) and data type float64\n",
      "2024/05/29 05:55:52 WARNING mlflow.utils.autologging_utils: MLflow autologging encountered a warning: \"C:\\Users\\moham\\anaconda3\\Lib\\site-packages\\_distutils_hack\\__init__.py:36: UserWarning: Setuptools is replacing distutils.\"\n",
      "2024/05/29 05:55:53 WARNING mlflow.sklearn: Failed to log evaluation dataset information to MLflow Tracking. Reason: Unable to allocate 2.66 GiB for an array with shape (62574, 5702) and data type float64\n",
      "C:\\Users\\moham\\anaconda3\\Lib\\site-packages\\sklearn\\metrics\\_regression.py:483: FutureWarning: 'squared' is deprecated in version 1.4 and will be removed in 1.6. To calculate the root mean squared error, use the function'root_mean_squared_error'.\n",
      "  warnings.warn(\n",
      "C:\\Users\\moham\\anaconda3\\Lib\\site-packages\\sklearn\\metrics\\_regression.py:483: FutureWarning: 'squared' is deprecated in version 1.4 and will be removed in 1.6. To calculate the root mean squared error, use the function'root_mean_squared_error'.\n",
      "  warnings.warn(\n",
      "\n",
      "C:\\Users\\moham\\anaconda3\\Lib\\site-packages\\sklearn\\metrics\\_regression.py:483: FutureWarning: 'squared' is deprecated in version 1.4 and will be removed in 1.6. To calculate the root mean squared error, use the function'root_mean_squared_error'.\n",
      "  warnings.warn(\n",
      "\n",
      "C:\\Users\\moham\\anaconda3\\Lib\\site-packages\\sklearn\\metrics\\_regression.py:483: FutureWarning: 'squared' is deprecated in version 1.4 and will be removed in 1.6. To calculate the root mean squared error, use the function'root_mean_squared_error'.\n",
      "  warnings.warn(\n",
      "\n",
      "C:\\Users\\moham\\anaconda3\\Lib\\site-packages\\sklearn\\metrics\\_regression.py:483: FutureWarning: 'squared' is deprecated in version 1.4 and will be removed in 1.6. To calculate the root mean squared error, use the function'root_mean_squared_error'.\n",
      "  warnings.warn(\n",
      "\n",
      "C:\\Users\\moham\\anaconda3\\Lib\\site-packages\\sklearn\\metrics\\_regression.py:483: FutureWarning: 'squared' is deprecated in version 1.4 and will be removed in 1.6. To calculate the root mean squared error, use the function'root_mean_squared_error'.\n",
      "  warnings.warn(\n",
      "\n",
      "C:\\Users\\moham\\anaconda3\\Lib\\site-packages\\sklearn\\metrics\\_regression.py:483: FutureWarning: 'squared' is deprecated in version 1.4 and will be removed in 1.6. To calculate the root mean squared error, use the function'root_mean_squared_error'.\n",
      "  warnings.warn(\n",
      "\n",
      "C:\\Users\\moham\\anaconda3\\Lib\\site-packages\\sklearn\\metrics\\_regression.py:483: FutureWarning: 'squared' is deprecated in version 1.4 and will be removed in 1.6. To calculate the root mean squared error, use the function'root_mean_squared_error'.\n",
      "  warnings.warn(\n",
      "\n",
      "C:\\Users\\moham\\anaconda3\\Lib\\site-packages\\sklearn\\metrics\\_regression.py:483: FutureWarning: 'squared' is deprecated in version 1.4 and will be removed in 1.6. To calculate the root mean squared error, use the function'root_mean_squared_error'.\n",
      "  warnings.warn(\n",
      "\n",
      "C:\\Users\\moham\\anaconda3\\Lib\\site-packages\\sklearn\\metrics\\_regression.py:483: FutureWarning: 'squared' is deprecated in version 1.4 and will be removed in 1.6. To calculate the root mean squared error, use the function'root_mean_squared_error'.\n",
      "  warnings.warn(\n",
      "\n",
      "C:\\Users\\moham\\anaconda3\\Lib\\site-packages\\sklearn\\metrics\\_regression.py:483: FutureWarning: 'squared' is deprecated in version 1.4 and will be removed in 1.6. To calculate the root mean squared error, use the function'root_mean_squared_error'.\n",
      "  warnings.warn(\n",
      "\n",
      "C:\\Users\\moham\\anaconda3\\Lib\\site-packages\\sklearn\\metrics\\_regression.py:483: FutureWarning: 'squared' is deprecated in version 1.4 and will be removed in 1.6. To calculate the root mean squared error, use the function'root_mean_squared_error'.\n",
      "  warnings.warn(\n",
      "\n",
      "C:\\Users\\moham\\anaconda3\\Lib\\site-packages\\sklearn\\metrics\\_regression.py:483: FutureWarning: 'squared' is deprecated in version 1.4 and will be removed in 1.6. To calculate the root mean squared error, use the function'root_mean_squared_error'.\n",
      "  warnings.warn(\n",
      "\n",
      "C:\\Users\\moham\\anaconda3\\Lib\\site-packages\\sklearn\\metrics\\_regression.py:483: FutureWarning: 'squared' is deprecated in version 1.4 and will be removed in 1.6. To calculate the root mean squared error, use the function'root_mean_squared_error'.\n",
      "  warnings.warn(\n",
      "\n",
      "C:\\Users\\moham\\anaconda3\\Lib\\site-packages\\sklearn\\metrics\\_regression.py:483: FutureWarning: 'squared' is deprecated in version 1.4 and will be removed in 1.6. To calculate the root mean squared error, use the function'root_mean_squared_error'.\n",
      "  warnings.warn(\n",
      "\n",
      "C:\\Users\\moham\\anaconda3\\Lib\\site-packages\\sklearn\\metrics\\_regression.py:483: FutureWarning: 'squared' is deprecated in version 1.4 and will be removed in 1.6. To calculate the root mean squared error, use the function'root_mean_squared_error'.\n",
      "  warnings.warn(\n",
      "\n"
     ]
    },
    {
     "name": "stdout",
     "output_type": "stream",
     "text": [
      "\n",
      "  0%|          | 0/15 [00:00<?, ?trial/s, best loss=?]\n",
      "  7%|6         | 1/15 [00:11<02:36, 11.18s/trial, best loss: 5.370086069268862]\n",
      " 13%|#3        | 2/15 [00:11<01:03,  4.91s/trial, best loss: 5.370086069268862]\n",
      " 20%|##        | 3/15 [00:12<00:36,  3.01s/trial, best loss: 5.370086069268862]\n",
      " 27%|##6       | 4/15 [00:18<00:45,  4.17s/trial, best loss: 5.357490752366866]\n",
      " 33%|###3      | 5/15 [00:21<00:36,  3.68s/trial, best loss: 5.357490752366866]\n",
      " 40%|####      | 6/15 [00:30<00:51,  5.68s/trial, best loss: 5.354695072530291]\n",
      " 47%|####6     | 7/15 [00:40<00:55,  6.92s/trial, best loss: 5.354695072530291]\n",
      " 53%|#####3    | 8/15 [00:41<00:35,  5.11s/trial, best loss: 5.354695072530291]\n",
      " 60%|######    | 9/15 [00:47<00:32,  5.37s/trial, best loss: 5.354695072530291]\n",
      " 67%|######6   | 10/15 [00:52<00:26,  5.21s/trial, best loss: 5.354695072530291]\n",
      " 73%|#######3  | 11/15 [00:56<00:19,  4.78s/trial, best loss: 5.335419588556921]\n",
      " 80%|########  | 12/15 [00:59<00:12,  4.23s/trial, best loss: 5.335419588556921]\n",
      " 87%|########6 | 13/15 [01:00<00:06,  3.27s/trial, best loss: 5.335419588556921]\n",
      " 93%|#########3| 14/15 [01:03<00:03,  3.36s/trial, best loss: 5.335419588556921]\n",
      "100%|##########| 15/15 [01:09<00:00,  4.01s/trial, best loss: 5.335419588556921]\n",
      "100%|##########| 15/15 [01:09<00:00,  4.61s/trial, best loss: 5.335419588556921]\n"
     ]
    }
   ],
   "source": [
    "!python hpo.py --data_path ./output"
   ]
  },
  {
   "cell_type": "code",
   "execution_count": null,
   "id": "d179b5cc-326e-468d-b1c3-1d78f9552664",
   "metadata": {},
   "outputs": [],
   "source": [
    "!mlflow ui"
   ]
  },
  {
   "cell_type": "code",
   "execution_count": 16,
   "id": "e1a7e3b5-8b76-47ce-a5a3-a99d5bb1ba81",
   "metadata": {},
   "outputs": [
    {
     "name": "stderr",
     "output_type": "stream",
     "text": [
      "2024/05/29 06:08:28 INFO mlflow.tracking.fluent: Experiment with name 'random-forest-best-models' does not exist. Creating a new experiment.\n",
      "2024/05/29 06:08:29 WARNING mlflow.sklearn: Failed to log training dataset information to MLflow Tracking. Reason: Unable to allocate 2.80 GiB for an array with shape (65946, 5702) and data type float64\n",
      "2024/05/29 06:08:37 WARNING mlflow.utils.environment: Encountered an unexpected error while inferring pip requirements (model URI: C:\\Users\\moham\\AppData\\Local\\Temp\\tmpt8c7l30t\\model\\model.pkl, flavor: sklearn). Fall back to return ['scikit-learn==1.4.0', 'cloudpickle==2.2.1']. Set logging level to DEBUG to see the full traceback. \n",
      "2024/05/29 06:08:37 WARNING mlflow.utils.autologging_utils: MLflow autologging encountered a warning: \"C:\\Users\\moham\\anaconda3\\Lib\\site-packages\\_distutils_hack\\__init__.py:36: UserWarning: Setuptools is replacing distutils.\"\n",
      "2024/05/29 06:08:37 WARNING mlflow.sklearn: Failed to log evaluation dataset information to MLflow Tracking. Reason: Unable to allocate 2.66 GiB for an array with shape (62574, 5702) and data type float64\n",
      "C:\\Users\\moham\\anaconda3\\Lib\\site-packages\\sklearn\\metrics\\_regression.py:483: FutureWarning: 'squared' is deprecated in version 1.4 and will be removed in 1.6. To calculate the root mean squared error, use the function'root_mean_squared_error'.\n",
      "  warnings.warn(\n",
      "2024/05/29 06:08:37 WARNING mlflow.sklearn: Failed to log evaluation dataset information to MLflow Tracking. Reason: Unable to allocate 2.95 GiB for an array with shape (69392, 5702) and data type float64\n",
      "C:\\Users\\moham\\anaconda3\\Lib\\site-packages\\sklearn\\metrics\\_regression.py:483: FutureWarning: 'squared' is deprecated in version 1.4 and will be removed in 1.6. To calculate the root mean squared error, use the function'root_mean_squared_error'.\n",
      "  warnings.warn(\n",
      "2024/05/29 06:08:37 WARNING mlflow.sklearn: Failed to log training dataset information to MLflow Tracking. Reason: Unable to allocate 2.80 GiB for an array with shape (65946, 5702) and data type float64\n",
      "2024/05/29 06:08:50 WARNING mlflow.utils.environment: Encountered an unexpected error while inferring pip requirements (model URI: C:\\Users\\moham\\AppData\\Local\\Temp\\tmpr1e2heye\\model\\model.pkl, flavor: sklearn). Fall back to return ['scikit-learn==1.4.0', 'cloudpickle==2.2.1']. Set logging level to DEBUG to see the full traceback. \n",
      "2024/05/29 06:08:51 WARNING mlflow.sklearn: Failed to log evaluation dataset information to MLflow Tracking. Reason: Unable to allocate 2.66 GiB for an array with shape (62574, 5702) and data type float64\n",
      "C:\\Users\\moham\\anaconda3\\Lib\\site-packages\\sklearn\\metrics\\_regression.py:483: FutureWarning: 'squared' is deprecated in version 1.4 and will be removed in 1.6. To calculate the root mean squared error, use the function'root_mean_squared_error'.\n",
      "  warnings.warn(\n",
      "2024/05/29 06:08:51 WARNING mlflow.sklearn: Failed to log evaluation dataset information to MLflow Tracking. Reason: Unable to allocate 2.95 GiB for an array with shape (69392, 5702) and data type float64\n",
      "C:\\Users\\moham\\anaconda3\\Lib\\site-packages\\sklearn\\metrics\\_regression.py:483: FutureWarning: 'squared' is deprecated in version 1.4 and will be removed in 1.6. To calculate the root mean squared error, use the function'root_mean_squared_error'.\n",
      "  warnings.warn(\n",
      "2024/05/29 06:08:51 WARNING mlflow.sklearn: Failed to log training dataset information to MLflow Tracking. Reason: Unable to allocate 2.80 GiB for an array with shape (65946, 5702) and data type float64\n",
      "2024/05/29 06:08:59 WARNING mlflow.utils.environment: Encountered an unexpected error while inferring pip requirements (model URI: C:\\Users\\moham\\AppData\\Local\\Temp\\tmpxtja0cdq\\model\\model.pkl, flavor: sklearn). Fall back to return ['scikit-learn==1.4.0', 'cloudpickle==2.2.1']. Set logging level to DEBUG to see the full traceback. \n",
      "2024/05/29 06:08:59 WARNING mlflow.sklearn: Failed to log evaluation dataset information to MLflow Tracking. Reason: Unable to allocate 2.66 GiB for an array with shape (62574, 5702) and data type float64\n",
      "C:\\Users\\moham\\anaconda3\\Lib\\site-packages\\sklearn\\metrics\\_regression.py:483: FutureWarning: 'squared' is deprecated in version 1.4 and will be removed in 1.6. To calculate the root mean squared error, use the function'root_mean_squared_error'.\n",
      "  warnings.warn(\n",
      "2024/05/29 06:08:59 WARNING mlflow.sklearn: Failed to log evaluation dataset information to MLflow Tracking. Reason: Unable to allocate 2.95 GiB for an array with shape (69392, 5702) and data type float64\n",
      "C:\\Users\\moham\\anaconda3\\Lib\\site-packages\\sklearn\\metrics\\_regression.py:483: FutureWarning: 'squared' is deprecated in version 1.4 and will be removed in 1.6. To calculate the root mean squared error, use the function'root_mean_squared_error'.\n",
      "  warnings.warn(\n",
      "2024/05/29 06:08:59 WARNING mlflow.sklearn: Failed to log training dataset information to MLflow Tracking. Reason: Unable to allocate 2.80 GiB for an array with shape (65946, 5702) and data type float64\n",
      "2024/05/29 06:09:07 WARNING mlflow.utils.environment: Encountered an unexpected error while inferring pip requirements (model URI: C:\\Users\\moham\\AppData\\Local\\Temp\\tmpgc6n9muz\\model\\model.pkl, flavor: sklearn). Fall back to return ['scikit-learn==1.4.0', 'cloudpickle==2.2.1']. Set logging level to DEBUG to see the full traceback. \n",
      "2024/05/29 06:09:07 WARNING mlflow.sklearn: Failed to log evaluation dataset information to MLflow Tracking. Reason: Unable to allocate 2.66 GiB for an array with shape (62574, 5702) and data type float64\n",
      "C:\\Users\\moham\\anaconda3\\Lib\\site-packages\\sklearn\\metrics\\_regression.py:483: FutureWarning: 'squared' is deprecated in version 1.4 and will be removed in 1.6. To calculate the root mean squared error, use the function'root_mean_squared_error'.\n",
      "  warnings.warn(\n",
      "2024/05/29 06:09:07 WARNING mlflow.sklearn: Failed to log evaluation dataset information to MLflow Tracking. Reason: Unable to allocate 2.95 GiB for an array with shape (69392, 5702) and data type float64\n",
      "C:\\Users\\moham\\anaconda3\\Lib\\site-packages\\sklearn\\metrics\\_regression.py:483: FutureWarning: 'squared' is deprecated in version 1.4 and will be removed in 1.6. To calculate the root mean squared error, use the function'root_mean_squared_error'.\n",
      "  warnings.warn(\n",
      "2024/05/29 06:09:07 WARNING mlflow.sklearn: Failed to log training dataset information to MLflow Tracking. Reason: Unable to allocate 2.80 GiB for an array with shape (65946, 5702) and data type float64\n",
      "2024/05/29 06:09:17 WARNING mlflow.sklearn: Failed to log evaluation dataset information to MLflow Tracking. Reason: Unable to allocate 2.66 GiB for an array with shape (62574, 5702) and data type float64\n",
      "C:\\Users\\moham\\anaconda3\\Lib\\site-packages\\sklearn\\metrics\\_regression.py:483: FutureWarning: 'squared' is deprecated in version 1.4 and will be removed in 1.6. To calculate the root mean squared error, use the function'root_mean_squared_error'.\n",
      "  warnings.warn(\n",
      "2024/05/29 06:09:17 WARNING mlflow.sklearn: Failed to log evaluation dataset information to MLflow Tracking. Reason: Unable to allocate 2.95 GiB for an array with shape (69392, 5702) and data type float64\n",
      "C:\\Users\\moham\\anaconda3\\Lib\\site-packages\\sklearn\\metrics\\_regression.py:483: FutureWarning: 'squared' is deprecated in version 1.4 and will be removed in 1.6. To calculate the root mean squared error, use the function'root_mean_squared_error'.\n",
      "  warnings.warn(\n",
      "Successfully registered model 'RandomForestRegressionModel'.\n",
      "2024/05/29 06:09:18 INFO mlflow.store.model_registry.abstract_store: Waiting up to 300 seconds for model version to finish creation. Model name: RandomForestRegressionModel, version 1\n",
      "Created version '1' of model 'RandomForestRegressionModel'.\n"
     ]
    }
   ],
   "source": [
    "!python register_model.py\n"
   ]
  },
  {
   "cell_type": "code",
   "execution_count": null,
   "id": "03d1f047-64ae-47a0-8190-6d0889b41132",
   "metadata": {},
   "outputs": [],
   "source": []
  }
 ],
 "metadata": {
  "kernelspec": {
   "display_name": "Python 3 (ipykernel)",
   "language": "python",
   "name": "python3"
  },
  "language_info": {
   "codemirror_mode": {
    "name": "ipython",
    "version": 3
   },
   "file_extension": ".py",
   "mimetype": "text/x-python",
   "name": "python",
   "nbconvert_exporter": "python",
   "pygments_lexer": "ipython3",
   "version": "3.11.7"
  },
  "widgets": {
   "application/vnd.jupyter.widget-state+json": {
    "state": {},
    "version_major": 2,
    "version_minor": 0
   }
  }
 },
 "nbformat": 4,
 "nbformat_minor": 5
}
